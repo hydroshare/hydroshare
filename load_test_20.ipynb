{
 "cells": [
  {
   "cell_type": "code",
   "execution_count": 147,
   "metadata": {
    "id": "hzriLgMl0oJ2"
   },
   "outputs": [],
   "source": [
    "# !pip install hsclient\n",
    "TRIALS = 10\n",
    "targets = [\"beta.hydroshare.org\", \"www.hydroshare.org\"]\n",
    "clients = {}"
   ]
  },
  {
   "cell_type": "code",
   "execution_count": 148,
   "metadata": {
    "id": "3njsiY73m7_V"
   },
   "outputs": [],
   "source": [
    "from hsclient import HydroShare\n",
    "for target in targets:\n",
    "    hs = HydroShare(host=target, port=443, protocol='https')\n",
    "    hs.sign_in()\n",
    "    hs.resources = []\n",
    "    clients[target] = hs"
   ]
  },
  {
   "cell_type": "code",
   "execution_count": 180,
   "metadata": {},
   "outputs": [],
   "source": [
    "from time import time\n",
    "from functools import wraps\n",
    "\n",
    "diffs = []\n",
    "  \n",
    "def timer_func(func): \n",
    "    @wraps(func)\n",
    "    def wrap_func(*args, **kwargs): \n",
    "        t1 = time() \n",
    "        result = func(*args, **kwargs) \n",
    "        t2 = time()\n",
    "        diff = t2-t1\n",
    "        diffs.append(diff)\n",
    "        print(f'Function {func.__name__!r} executed in {(diff):.4f}s') \n",
    "        return result \n",
    "    return wrap_func\n",
    "\n",
    "\n",
    "def create_res(hs, time=True):\n",
    "\n",
    "    @timer_func\n",
    "    def create_res_time(hs):\n",
    "        resource = hs.create()\n",
    "        hs.resources.append(resource)\n",
    "    \n",
    "    if time:\n",
    "        create_res_time(hs)\n",
    "    else:\n",
    "        resource = hs.create()\n",
    "        hs.resources.append(resource)\n",
    "\n",
    "@timer_func\n",
    "def delete_resources(hs):\n",
    "    for res in hs.resources:\n",
    "        res.delete()\n",
    "\n",
    "@timer_func\n",
    "def download_all_resources(hs):\n",
    "    for res in hs.resources:\n",
    "        res.download()\n",
    "\n",
    "def download_single_resource(hs):\n",
    "    create_res(hs, False)\n",
    "    res = hs.resources[-1]\n",
    "    res.file_upload('20.zip')\n",
    "\n",
    "    @timer_func\n",
    "    def download_single_resource_inner(res):\n",
    "        res.download()\n",
    "\n",
    "    download_single_resource_inner(res)\n",
    "\n",
    "def upload_file(hs, res_number=-1):\n",
    "    create_res(hs, False)\n",
    "    res = hs.resources[-1]\n",
    "\n",
    "    @timer_func\n",
    "    def upload_file_inner(res):\n",
    "        res.file_upload('20.zip')\n",
    "\n",
    "    upload_file_inner(res)\n",
    "\n",
    "\n",
    "def create_dir_upload_file(hs):\n",
    "    create_res(hs, False)\n",
    "    res = hs.resources[-1]\n",
    "\n",
    "    @timer_func\n",
    "    def create_dir_upload_file_inner(res):\n",
    "        res.folder_create('New_Folder')\n",
    "        res.file_upload('20.zip', destination_path='New_Folder')\n",
    "    create_dir_upload_file_inner(res)\n",
    "\n",
    "def upload_and_movefile(hs):\n",
    "    create_res(hs, False)\n",
    "    res = hs.resources[-1]\n",
    "    \n",
    "    @timer_func\n",
    "    def upload_and_movefile_inner(res):\n",
    "        res.folder_create('New_Folder')\n",
    "        res.file_upload('20.zip', destination_path='New_Folder')\n",
    "        file = res.file(path=\"New_Folder/20.zip\")\n",
    "        res.file_rename(file, '20.zip')\n",
    "    upload_and_movefile_inner(res)\n",
    "\n",
    "def download_single_file(hs):\n",
    "    create_res(hs, False)\n",
    "    res = hs.resources[-1]\n",
    "    res.file_upload('20.zip')\n",
    "\n",
    "    @timer_func\n",
    "    def download_single_file_inner(res):\n",
    "        file = res.file(path=\"20.zip\")\n",
    "        res.file_download(file)\n",
    "    download_single_file_inner(res)\n",
    "\n",
    "def delete_single_file(hs):\n",
    "    create_res(hs, False)\n",
    "    res = hs.resources[-1]\n",
    "    res.file_upload('20.zip')\n",
    "\n",
    "    @timer_func\n",
    "    def delete_single_file_inner(res):\n",
    "        file = res.file(path=\"20.zip\")\n",
    "        res.file_delete(file)\n",
    "    delete_single_file_inner(res)\n",
    "        \n",
    "\n",
    "def run_comparisons(functions_to_run, runs=1):\n",
    "    for funct in functions_to_run:\n",
    "        print(f\"********* Start {funct.__name__!r} *********\")\n",
    "        for target in targets:\n",
    "            client = clients[target]\n",
    "            diffs.clear()\n",
    "            for i in range(runs):\n",
    "                print(f\"Starting run {i} of {funct.__name__} on {target}...\")\n",
    "                funct(client)\n",
    "                print(diffs)\n",
    "            print(f\"Average time {funct.__name__!r} on {target}: {sum(diffs)/len(diffs)}\\n\\n\")\n",
    "\n",
    "def clear_resources():\n",
    "    for target in targets:\n",
    "        client = clients[target]\n",
    "        client.resources = []\n",
    "  "
   ]
  },
  {
   "cell_type": "code",
   "execution_count": 181,
   "metadata": {
    "id": "W9azvJ_Co87w"
   },
   "outputs": [
    {
     "name": "stdout",
     "output_type": "stream",
     "text": [
      "********* Start 'download_single_resource' *********\n",
      "Starting run 0 of download_single_resource on beta.hydroshare.org...\n",
      "Function 'download_single_resource_inner' executed in 31.8460s\n",
      "[31.846033811569214]\n",
      "Starting run 1 of download_single_resource on beta.hydroshare.org...\n",
      "Function 'download_single_resource_inner' executed in 37.1286s\n",
      "[31.846033811569214, 37.12863779067993]\n",
      "Starting run 2 of download_single_resource on beta.hydroshare.org...\n"
     ]
    }
   ],
   "source": [
    "clear_resources()\n",
    "run_comparisons([download_single_resource, upload_file, create_dir_upload_file, upload_and_movefile, delete_single_file, download_single_file, create_res ], runs=TRIALS)\n"
   ]
  },
  {
   "cell_type": "code",
   "execution_count": null,
   "metadata": {},
   "outputs": [],
   "source": [
    "run_comparisons([download_all_resources, delete_resources], runs=1)"
   ]
  }
 ],
 "metadata": {
  "colab": {
   "collapsed_sections": [],
   "name": "HS_RDF_Examples.ipynb",
   "provenance": [],
   "toc_visible": true
  },
  "kernelspec": {
   "display_name": "Python 3",
   "language": "python",
   "name": "python3"
  },
  "language_info": {
   "codemirror_mode": {
    "name": "ipython",
    "version": 3
   },
   "file_extension": ".py",
   "mimetype": "text/x-python",
   "name": "python",
   "nbconvert_exporter": "python",
   "pygments_lexer": "ipython3",
   "version": "3.11.6"
  }
 },
 "nbformat": 4,
 "nbformat_minor": 4
}
