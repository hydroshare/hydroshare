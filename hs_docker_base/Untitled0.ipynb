{
 "metadata": {
  "name": "",
  "signature": "sha256:64f65866528e284e3699fc0c53159731b9501d413c55486274debac8abff1643"
 },
 "nbformat": 3,
 "nbformat_minor": 0,
 "worksheets": [
  {
   "cells": [
    {
     "cell_type": "code",
     "collapsed": false,
     "input": [
      "import docker"
     ],
     "language": "python",
     "metadata": {},
     "outputs": [],
     "prompt_number": 21
    },
    {
     "cell_type": "code",
     "collapsed": false,
     "input": [
      "c = docker.Client(base_url='http://192.168.59.103:2375', version='1.13')"
     ],
     "language": "python",
     "metadata": {},
     "outputs": [],
     "prompt_number": 22
    },
    {
     "cell_type": "code",
     "collapsed": false,
     "input": [
      "c.containers()"
     ],
     "language": "python",
     "metadata": {},
     "outputs": [
      {
       "metadata": {},
       "output_type": "pyout",
       "prompt_number": 27,
       "text": [
        "[{u'Command': u'celery worker -A terrahub -E',\n",
        "  u'Created': 1409770850,\n",
        "  u'Id': u'd8293582d7b40bf727e49a2770eea66ba0d62265fa2bf63c8647b8486e4018ed',\n",
        "  u'Image': u'thcms_terrahub:latest',\n",
        "  u'Names': [u'/thcms_worker_1'],\n",
        "  u'Ports': [{u'PrivatePort': 1338, u'Type': u'tcp'},\n",
        "   {u'PrivatePort': 22, u'Type': u'tcp'},\n",
        "   {u'PrivatePort': 443, u'Type': u'tcp'},\n",
        "   {u'PrivatePort': 80, u'Type': u'tcp'},\n",
        "   {u'PrivatePort': 8000, u'Type': u'tcp'}],\n",
        "  u'Status': u'Up About a minute'},\n",
        " {u'Command': u'/bin/bash init',\n",
        "  u'Created': 1409770850,\n",
        "  u'Id': u'5ff10c60c7c311e153e0050dcb6ef3ccd95615f71103d106a3c2c7f399bbf168',\n",
        "  u'Image': u'thcms_terrahub:latest',\n",
        "  u'Names': [u'/thcms_terrahub_1'],\n",
        "  u'Ports': [{u'IP': u'0.0.0.0',\n",
        "    u'PrivatePort': 22,\n",
        "    u'PublicPort': 1338,\n",
        "    u'Type': u'tcp'},\n",
        "   {u'IP': u'0.0.0.0',\n",
        "    u'PrivatePort': 80,\n",
        "    u'PublicPort': 8000,\n",
        "    u'Type': u'tcp'},\n",
        "   {u'PrivatePort': 1338, u'Type': u'tcp'},\n",
        "   {u'PrivatePort': 443, u'Type': u'tcp'},\n",
        "   {u'PrivatePort': 8000, u'Type': u'tcp'}],\n",
        "  u'Status': u'Up About a minute'},\n",
        " {u'Command': u'/var/lib/postgresql/postgres.sh',\n",
        "  u'Created': 1409770849,\n",
        "  u'Id': u'd1380b9ce826c1486335809705dbf73c6c71d6219dca9872076dbaeec943b7b4',\n",
        "  u'Image': u'jamesbrink/postgresql:latest',\n",
        "  u'Names': [u'/thcms_postgis_1',\n",
        "   u'/thcms_terrahub_1/postgis',\n",
        "   u'/thcms_terrahub_1/postgis_1',\n",
        "   u'/thcms_terrahub_1/thcms_postgis_1',\n",
        "   u'/thcms_worker_1/postgis',\n",
        "   u'/thcms_worker_1/postgis_1',\n",
        "   u'/thcms_worker_1/thcms_postgis_1'],\n",
        "  u'Ports': [{u'PrivatePort': 5432, u'Type': u'tcp'}],\n",
        "  u'Status': u'Up About a minute'},\n",
        " {u'Command': u'redis-server /etc/redis/redis.conf',\n",
        "  u'Created': 1409770847,\n",
        "  u'Id': u'dc5c9440c5dbd954eaafaf206c262f671306c37b67233e2a8dda4f7c366bd5b9',\n",
        "  u'Image': u'dockerfile/redis:latest',\n",
        "  u'Names': [u'/thcms_redis_1',\n",
        "   u'/thcms_terrahub_1/redis',\n",
        "   u'/thcms_terrahub_1/redis_1',\n",
        "   u'/thcms_terrahub_1/thcms_redis_1',\n",
        "   u'/thcms_worker_1/redis',\n",
        "   u'/thcms_worker_1/redis_1',\n",
        "   u'/thcms_worker_1/thcms_redis_1'],\n",
        "  u'Ports': [{u'PrivatePort': 6379, u'Type': u'tcp'}],\n",
        "  u'Status': u'Up About a minute'}]"
       ]
      }
     ],
     "prompt_number": 27
    },
    {
     "cell_type": "code",
     "collapsed": false,
     "input": [
      "c.stop('thcms_terrahub_1')"
     ],
     "language": "python",
     "metadata": {},
     "outputs": [],
     "prompt_number": 29
    },
    {
     "cell_type": "code",
     "collapsed": false,
     "input": [
      "c.containers()"
     ],
     "language": "python",
     "metadata": {},
     "outputs": [
      {
       "metadata": {},
       "output_type": "pyout",
       "prompt_number": 30,
       "text": [
        "[]"
       ]
      }
     ],
     "prompt_number": 30
    },
    {
     "cell_type": "code",
     "collapsed": false,
     "input": [
      "c.start('thcms_redis_1')"
     ],
     "language": "python",
     "metadata": {},
     "outputs": [],
     "prompt_number": 45
    },
    {
     "cell_type": "code",
     "collapsed": false,
     "input": [
      "c.containers()"
     ],
     "language": "python",
     "metadata": {},
     "outputs": [
      {
       "metadata": {},
       "output_type": "pyout",
       "prompt_number": 44,
       "text": [
        "[]"
       ]
      }
     ],
     "prompt_number": 44
    },
    {
     "cell_type": "code",
     "collapsed": false,
     "input": [
      "output = ''.join(c.attach('thcms_redis_1', stream=True))"
     ],
     "language": "python",
     "metadata": {},
     "outputs": [
      {
       "ename": "KeyboardInterrupt",
       "evalue": "",
       "output_type": "pyerr",
       "traceback": [
        "\u001b[0;31m---------------------------------------------------------------------------\u001b[0m\n\u001b[0;31mKeyboardInterrupt\u001b[0m                         Traceback (most recent call last)",
        "\u001b[0;32m<ipython-input-43-b836825a7c88>\u001b[0m in \u001b[0;36m<module>\u001b[0;34m()\u001b[0m\n\u001b[0;32m----> 1\u001b[0;31m \u001b[0moutput\u001b[0m \u001b[0;34m=\u001b[0m \u001b[0;34m''\u001b[0m\u001b[0;34m.\u001b[0m\u001b[0mjoin\u001b[0m\u001b[0;34m(\u001b[0m\u001b[0mc\u001b[0m\u001b[0;34m.\u001b[0m\u001b[0mlogs\u001b[0m\u001b[0;34m(\u001b[0m\u001b[0;34m'thcms_redis_1'\u001b[0m\u001b[0;34m,\u001b[0m \u001b[0mstream\u001b[0m\u001b[0;34m=\u001b[0m\u001b[0mTrue\u001b[0m\u001b[0;34m)\u001b[0m\u001b[0;34m)\u001b[0m\u001b[0;34m\u001b[0m\u001b[0m\n\u001b[0m",
        "\u001b[0;32m/Library/Python/2.7/site-packages/docker/client.pyc\u001b[0m in \u001b[0;36m_multiplexed_socket_stream_helper\u001b[0;34m(self, response)\u001b[0m\n\u001b[1;32m    285\u001b[0m             \u001b[0;32mif\u001b[0m \u001b[0;32mnot\u001b[0m \u001b[0mlength\u001b[0m\u001b[0;34m:\u001b[0m\u001b[0;34m\u001b[0m\u001b[0m\n\u001b[1;32m    286\u001b[0m                 \u001b[0;32mbreak\u001b[0m\u001b[0;34m\u001b[0m\u001b[0m\n\u001b[0;32m--> 287\u001b[0;31m             \u001b[0mdata\u001b[0m \u001b[0;34m=\u001b[0m \u001b[0mrecvall\u001b[0m\u001b[0;34m(\u001b[0m\u001b[0msocket\u001b[0m\u001b[0;34m,\u001b[0m \u001b[0mlength\u001b[0m\u001b[0;34m)\u001b[0m\u001b[0;34m\u001b[0m\u001b[0m\n\u001b[0m\u001b[1;32m    288\u001b[0m             \u001b[0;32mif\u001b[0m \u001b[0;32mnot\u001b[0m \u001b[0mdata\u001b[0m\u001b[0;34m:\u001b[0m\u001b[0;34m\u001b[0m\u001b[0m\n\u001b[1;32m    289\u001b[0m                 \u001b[0;32mbreak\u001b[0m\u001b[0;34m\u001b[0m\u001b[0m\n",
        "\u001b[0;32m/Library/Python/2.7/site-packages/docker/client.pyc\u001b[0m in \u001b[0;36mrecvall\u001b[0;34m(socket, size)\u001b[0m\n\u001b[1;32m    266\u001b[0m             \u001b[0mblocks\u001b[0m \u001b[0;34m=\u001b[0m \u001b[0;34m[\u001b[0m\u001b[0;34m]\u001b[0m\u001b[0;34m\u001b[0m\u001b[0m\n\u001b[1;32m    267\u001b[0m             \u001b[0;32mwhile\u001b[0m \u001b[0msize\u001b[0m \u001b[0;34m>\u001b[0m \u001b[0;36m0\u001b[0m\u001b[0;34m:\u001b[0m\u001b[0;34m\u001b[0m\u001b[0m\n\u001b[0;32m--> 268\u001b[0;31m                 \u001b[0mblock\u001b[0m \u001b[0;34m=\u001b[0m \u001b[0msocket\u001b[0m\u001b[0;34m.\u001b[0m\u001b[0mrecv\u001b[0m\u001b[0;34m(\u001b[0m\u001b[0msize\u001b[0m\u001b[0;34m)\u001b[0m\u001b[0;34m\u001b[0m\u001b[0m\n\u001b[0m\u001b[1;32m    269\u001b[0m                 \u001b[0;32mif\u001b[0m \u001b[0;32mnot\u001b[0m \u001b[0mblock\u001b[0m\u001b[0;34m:\u001b[0m\u001b[0;34m\u001b[0m\u001b[0m\n\u001b[1;32m    270\u001b[0m                     \u001b[0;32mreturn\u001b[0m \u001b[0mNone\u001b[0m\u001b[0;34m\u001b[0m\u001b[0m\n",
        "\u001b[0;31mKeyboardInterrupt\u001b[0m: "
       ]
      }
     ],
     "prompt_number": 43
    },
    {
     "cell_type": "code",
     "collapsed": false,
     "input": [
      "print c.logs('thcms_redis_1')"
     ],
     "language": "python",
     "metadata": {},
     "outputs": [
      {
       "output_type": "stream",
       "stream": "stdout",
       "text": [
        "[1] 03 Sep 19:00:48.259 # You requested maxclients of 10000 requiring at least 10032 max file descriptors.\n",
        "[1] 03 Sep 19:00:48.259 # Redis can't set maximum open files to 10032 because of OS error: Operation not permitted.\n",
        "[1] 03 Sep 19:00:48.259 # Current maximum open files is 1024. maxclients has been reduced to 4064 to compensate for low ulimit. If you need higher maxclients increase 'ulimit -n'.\n",
        "                _._                                                  \n",
        "           _.-``__ ''-._                                             \n",
        "      _.-``    `.  `_.  ''-._           Redis 2.8.9 (00000000/0) 64 bit\n",
        "  .-`` .-```.  ```\\/    _.,_ ''-._                                   \n",
        " (    '      ,       .-`  | `,    )     Running in stand alone mode\n",
        " |`-._`-...-` __...-.``-._|'` _.-'|     Port: 6379\n",
        " |    `-._   `._    /     _.-'    |     PID: 1\n",
        "  `-._    `-._  `-./  _.-'    _.-'                                   \n",
        " |`-._`-._    `-.__.-'    _.-'_.-'|                                  \n",
        " |    `-._`-._        _.-'_.-'    |           http://redis.io        \n",
        "  `-._    `-._`-.__.-'_.-'    _.-'                                   \n",
        " |`-._`-._    `-.__.-'    _.-'_.-'|                                  \n",
        " |    `-._`-._        _.-'_.-'    |                                  \n",
        "  `-._    `-._`-.__.-'_.-'    _.-'                                   \n",
        "      `-._    `-.__.-'    _.-'                                       \n",
        "          `-._        _.-'                                           \n",
        "              `-.__.-'                                               \n",
        "\n",
        "[1] 03 Sep 19:00:48.259 # Server started, Redis version 2.8.9\n",
        "[1] 03 Sep 19:00:48.260 # WARNING overcommit_memory is set to 0! Background save may fail under low memory condition. To fix this issue add 'vm.overcommit_memory = 1' to /etc/sysctl.conf and then reboot or run the command 'sysctl vm.overcommit_memory=1' for this to take effect.\n",
        "[1] 03 Sep 19:00:48.260 * DB loaded from disk: 0.000 seconds\n",
        "[1] 03 Sep 19:00:48.260 * The server is now ready to accept connections on port 6379\n",
        "[1 | signal handler] (1409771053) Received SIGTERM, scheduling shutdown...\n",
        "[1] 03 Sep 19:04:13.486 # User requested shutdown...\n",
        "[1] 03 Sep 19:04:13.486 * Saving the final RDB snapshot before exiting.\n",
        "[1] 03 Sep 19:04:13.489 * DB saved on disk\n",
        "[1] 03 Sep 19:04:13.489 # Redis is now ready to exit, bye bye...\n",
        "[1] 03 Sep 19:05:13.288 # You requested maxclients of 10000 requiring at least 10032 max file descriptors.\n",
        "[1] 03 Sep 19:05:13.288 # Redis can't set maximum open files to 10032 because of OS error: Operation not permitted.\n",
        "[1] 03 Sep 19:05:13.288 # Current maximum open files is 1024. maxclients has been reduced to 4064 to compensate for low ulimit. If you need higher maxclients increase 'ulimit -n'.\n",
        "                _._                                                  \n",
        "           _.-``__ ''-._                                             \n",
        "      _.-``    `.  `_.  ''-._           Redis 2.8.9 (00000000/0) 64 bit\n",
        "  .-`` .-```.  ```\\/    _.,_ ''-._                                   \n",
        " (    '      ,       .-`  | `,    )     Running in stand alone mode\n",
        " |`-._`-...-` __...-.``-._|'` _.-'|     Port: 6379\n",
        " |    `-._   `._    /     _.-'    |     PID: 1\n",
        "  `-._    `-._  `-./  _.-'    _.-'                                   \n",
        " |`-._`-._    `-.__.-'    _.-'_.-'|                                  \n",
        " |    `-._`-._        _.-'_.-'    |           http://redis.io        \n",
        "  `-._    `-._`-.__.-'_.-'    _.-'                                   \n",
        " |`-._`-._    `-.__.-'    _.-'_.-'|                                  \n",
        " |    `-._`-._        _.-'_.-'    |                                  \n",
        "  `-._    `-._`-.__.-'_.-'    _.-'                                   \n",
        "      `-._    `-.__.-'    _.-'                                       \n",
        "          `-._        _.-'                                           \n",
        "              `-.__.-'                                               \n",
        "\n",
        "[1] 03 Sep 19:05:13.289 # Server started, Redis version 2.8.9\n",
        "[1] 03 Sep 19:05:13.289 # WARNING overcommit_memory is set to 0! Background save may fail under low memory condition. To fix this issue add 'vm.overcommit_memory = 1' to /etc/sysctl.conf and then reboot or run the command 'sysctl vm.overcommit_memory=1' for this to take effect.\n",
        "[1] 03 Sep 19:05:13.289 * DB loaded from disk: 0.000 seconds\n",
        "[1] 03 Sep 19:05:13.289 * The server is now ready to accept connections on port 6379\n",
        "[1 | signal handler] (1409771233) Received SIGTERM, scheduling shutdown...\n",
        "[1] 03 Sep 19:07:13.628 # User requested shutdown...\n",
        "[1] 03 Sep 19:07:13.628 * Saving the final RDB snapshot before exiting.\n",
        "[1] 03 Sep 19:07:13.633 * DB saved on disk\n",
        "[1] 03 Sep 19:07:13.633 # Redis is now ready to exit, bye bye...\n",
        "[1] 03 Sep 19:07:39.868 # You requested maxclients of 10000 requiring at least 10032 max file descriptors.\n",
        "[1] 03 Sep 19:07:39.868 # Redis can't set maximum open files to 10032 because of OS error: Operation not permitted.\n",
        "[1] 03 Sep 19:07:39.868 # Current maximum open files is 1024. maxclients has been reduced to 4064 to compensate for low ulimit. If you need higher maxclients increase 'ulimit -n'.\n",
        "                _._                                                  \n",
        "           _.-``__ ''-._                                             \n",
        "      _.-``    `.  `_.  ''-._           Redis 2.8.9 (00000000/0) 64 bit\n",
        "  .-`` .-```.  ```\\/    _.,_ ''-._                                   \n",
        " (    '      ,       .-`  | `,    )     Running in stand alone mode\n",
        " |`-._`-...-` __...-.``-._|'` _.-'|     Port: 6379\n",
        " |    `-._   `._    /     _.-'    |     PID: 1\n",
        "  `-._    `-._  `-./  _.-'    _.-'                                   \n",
        " |`-._`-._    `-.__.-'    _.-'_.-'|                                  \n",
        " |    `-._`-._        _.-'_.-'    |           http://redis.io        \n",
        "  `-._    `-._`-.__.-'_.-'    _.-'                                   \n",
        " |`-._`-._    `-.__.-'    _.-'_.-'|                                  \n",
        " |    `-._`-._        _.-'_.-'    |                                  \n",
        "  `-._    `-._`-.__.-'_.-'    _.-'                                   \n",
        "      `-._    `-.__.-'    _.-'                                       \n",
        "          `-._        _.-'                                           \n",
        "              `-.__.-'                                               \n",
        "\n",
        "[1] 03 Sep 19:07:39.869 # Server started, Redis version 2.8.9\n",
        "[1] 03 Sep 19:07:39.869 # WARNING overcommit_memory is set to 0! Background save may fail under low memory condition. To fix this issue add 'vm.overcommit_memory = 1' to /etc/sysctl.conf and then reboot or run the command 'sysctl vm.overcommit_memory=1' for this to take effect.\n",
        "[1] 03 Sep 19:07:39.869 * DB loaded from disk: 0.000 seconds\n",
        "[1] 03 Sep 19:07:39.869 * The server is now ready to accept connections on port 6379\n",
        "[1 | signal handler] (1409771270) Received SIGTERM, scheduling shutdown...\n",
        "[1] 03 Sep 19:07:50.392 # User requested shutdown...\n",
        "[1] 03 Sep 19:07:50.392 * Saving the final RDB snapshot before exiting.\n",
        "[1] 03 Sep 19:07:50.395 * DB saved on disk\n",
        "[1] 03 Sep 19:07:50.395 # Redis is now ready to exit, bye bye...\n",
        "[1] 03 Sep 19:08:43.817 # You requested maxclients of 10000 requiring at least 10032 max file descriptors.\n",
        "[1] 03 Sep 19:08:43.818 # Redis can't set maximum open files to 10032 because of OS error: Operation not permitted.\n",
        "[1] 03 Sep 19:08:43.819 # Current maximum open files is 1024. maxclients has been reduced to 4064 to compensate for low ulimit. If you need higher maxclients increase 'ulimit -n'.\n",
        "                _._                                                  \n",
        "           _.-``__ ''-._                                             \n",
        "      _.-``    `.  `_.  ''-._           Redis 2.8.9 (00000000/0) 64 bit\n",
        "  .-`` .-```.  ```\\/    _.,_ ''-._                                   \n",
        " (    '      ,       .-`  | `,    )     Running in stand alone mode\n",
        " |`-._`-...-` __...-.``-._|'` _.-'|     Port: 6379\n",
        " |    `-._   `._    /     _.-'    |     PID: 1\n",
        "  `-._    `-._  `-./  _.-'    _.-'                                   \n",
        " |`-._`-._    `-.__.-'    _.-'_.-'|                                  \n",
        " |    `-._`-._        _.-'_.-'    |           http://redis.io        \n",
        "  `-._    `-._`-.__.-'_.-'    _.-'                                   \n",
        " |`-._`-._    `-.__.-'    _.-'_.-'|                                  \n",
        " |    `-._`-._        _.-'_.-'    |                                  \n",
        "  `-._    `-._`-.__.-'_.-'    _.-'                                   \n",
        "      `-._    `-.__.-'    _.-'                                       \n",
        "          `-._        _.-'                                           \n",
        "              `-.__.-'                                               \n",
        "\n",
        "[1] 03 Sep 19:08:43.819 # Server started, Redis version 2.8.9\n",
        "[1] 03 Sep 19:08:43.819 # WARNING overcommit_memory is set to 0! Background save may fail under low memory condition. To fix this issue add 'vm.overcommit_memory = 1' to /etc/sysctl.conf and then reboot or run the command 'sysctl vm.overcommit_memory=1' for this to take effect.\n",
        "[1] 03 Sep 19:08:43.820 * DB loaded from disk: 0.000 seconds\n",
        "[1] 03 Sep 19:08:43.820 * The server is now ready to accept connections on port 6379\n",
        "[1 | signal handler] (1409771331) Received SIGTERM, scheduling shutdown...\n",
        "[1] 03 Sep 19:08:51.680 # User requested shutdown...\n",
        "[1] 03 Sep 19:08:51.680 * Saving the final RDB snapshot before exiting.\n",
        "[1] 03 Sep 19:08:51.683 * DB saved on disk\n",
        "[1] 03 Sep 19:08:51.683 # Redis is now ready to exit, bye bye...\n",
        "[1] 03 Sep 19:09:17.798 # You requested maxclients of 10000 requiring at least 10032 max file descriptors.\n",
        "[1] 03 Sep 19:09:17.798 # Redis can't set maximum open files to 10032 because of OS error: Operation not permitted.\n",
        "[1] 03 Sep 19:09:17.798 # Current maximum open files is 1024. maxclients has been reduced to 4064 to compensate for low ulimit. If you need higher maxclients increase 'ulimit -n'.\n",
        "                _._                                                  \n",
        "           _.-``__ ''-._                                             \n",
        "      _.-``    `.  `_.  ''-._           Redis 2.8.9 (00000000/0) 64 bit\n",
        "  .-`` .-```.  ```\\/    _.,_ ''-._                                   \n",
        " (    '      ,       .-`  | `,    )     Running in stand alone mode\n",
        " |`-._`-...-` __...-.``-._|'` _.-'|     Port: 6379\n",
        " |    `-._   `._    /     _.-'    |     PID: 1\n",
        "  `-._    `-._  `-./  _.-'    _.-'                                   \n",
        " |`-._`-._    `-.__.-'    _.-'_.-'|                                  \n",
        " |    `-._`-._        _.-'_.-'    |           http://redis.io        \n",
        "  `-._    `-._`-.__.-'_.-'    _.-'                                   \n",
        " |`-._`-._    `-.__.-'    _.-'_.-'|                                  \n",
        " |    `-._`-._        _.-'_.-'    |                                  \n",
        "  `-._    `-._`-.__.-'_.-'    _.-'                                   \n",
        "      `-._    `-.__.-'    _.-'                                       \n",
        "          `-._        _.-'                                           \n",
        "              `-.__.-'                                               \n",
        "\n",
        "[1] 03 Sep 19:09:17.799 # Server started, Redis version 2.8.9\n",
        "[1] 03 Sep 19:09:17.799 # WARNING overcommit_memory is set to 0! Background save may fail under low memory condition. To fix this issue add 'vm.overcommit_memory = 1' to /etc/sysctl.conf and then reboot or run the command 'sysctl vm.overcommit_memory=1' for this to take effect.\n",
        "[1] 03 Sep 19:09:17.799 * DB loaded from disk: 0.000 seconds\n",
        "[1] 03 Sep 19:09:17.800 * The server is now ready to accept connections on port 6379\n",
        "\n"
       ]
      }
     ],
     "prompt_number": 47
    },
    {
     "cell_type": "code",
     "collapsed": false,
     "input": [
      "c.images(name='thcms_terrahub')"
     ],
     "language": "python",
     "metadata": {},
     "outputs": [
      {
       "metadata": {},
       "output_type": "pyout",
       "prompt_number": 51,
       "text": [
        "[{u'Created': 1409770807,\n",
        "  u'Id': u'0e224f975f4305fae5c3b4c4d459d485ec3ec0bbf250e62df0c3d40a4c51fa2e',\n",
        "  u'ParentId': u'76696e5ed67cd55342a67a468377b3b8dd2c338fa45798cdd9f7930024d2d3d3',\n",
        "  u'RepoTags': [u'thcms_terrahub:latest'],\n",
        "  u'Size': 0,\n",
        "  u'VirtualSize': 1537147178}]"
       ]
      }
     ],
     "prompt_number": 51
    },
    {
     "cell_type": "code",
     "collapsed": false,
     "input": [
      "{i['Id'] for i in c.containers(all=True)}"
     ],
     "language": "python",
     "metadata": {},
     "outputs": [
      {
       "metadata": {},
       "output_type": "pyout",
       "prompt_number": 54,
       "text": [
        "{u'5ff10c60c7c311e153e0050dcb6ef3ccd95615f71103d106a3c2c7f399bbf168',\n",
        " u'605480407a97b450348d83190b24f6a4d35785cab6550647b0b532e65778e010',\n",
        " u'7de587bce071c9e74d3f0d0045caa5e6f5a10f3ecb4ff14ddfd67ef5cdea5af0',\n",
        " u'9e0e6f5496ea7f0f6678e4524b5fd2fe6153e0224bb601c0452f8e70ba4d3b85',\n",
        " u'9e8e09d8465fb2e6a5ae39d5f1f1b25ca9185758ed3e17bcb5587b2b6f7b921a',\n",
        " u'b946cca734f4ff5b6df4b5f7dff4130eda553fb11f2fba33a8e6e58b9a56f728',\n",
        " u'c080edec76a43a6983d428d78a150ad9bf55e846fdbf88b2ca43df2e33ba986f',\n",
        " u'c7b4ac921fe04f3162deff777cd8ad0e346b87d0f57383311a1867d9b03f94ab',\n",
        " u'd1380b9ce826c1486335809705dbf73c6c71d6219dca9872076dbaeec943b7b4',\n",
        " u'd7f870e4e6ca0f8c05675d64d2f443cb626d2e105ff173b1438ba2346c539f8d',\n",
        " u'd8293582d7b40bf727e49a2770eea66ba0d62265fa2bf63c8647b8486e4018ed',\n",
        " u'dc5c9440c5dbd954eaafaf206c262f671306c37b67233e2a8dda4f7c366bd5b9',\n",
        " u'de30f70e6893a0778ac99f17eef2f6da0b2d0bae623f6b938915dfbb2bb357f0'}"
       ]
      }
     ],
     "prompt_number": 54
    },
    {
     "cell_type": "code",
     "collapsed": false,
     "input": [],
     "language": "python",
     "metadata": {},
     "outputs": []
    }
   ],
   "metadata": {}
  }
 ]
}